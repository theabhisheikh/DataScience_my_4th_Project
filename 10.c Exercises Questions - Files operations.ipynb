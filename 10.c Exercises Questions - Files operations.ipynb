{
 "cells": [
  {
   "cell_type": "markdown",
   "metadata": {},
   "source": [
    "\n",
    "## <font color='red'> FILES OPERATIONS  </font> "
   ]
  },
  {
   "cell_type": "markdown",
   "metadata": {},
   "source": [
    "#  <font color='blue'>1. READ THE FILE 'FRUITS_INPUT.TXT' AND PRINT ITS CONTENT </font> "
   ]
  },
  {
   "cell_type": "code",
   "execution_count": 1,
   "metadata": {},
   "outputs": [],
   "source": []
  },
  {
   "cell_type": "code",
   "execution_count": 3,
   "metadata": {},
   "outputs": [
    {
     "name": "stdout",
     "output_type": "stream",
     "text": [
      "['Here is the list of fruits: \\n', '\\n', 'Start of List\\n', '\\n', 'Açaí\\n', 'Apple\\n', 'Akee\\n', 'Apricot\\n', 'Avocado\\n', 'Banana\\n', 'Bilberry\\n', 'Blackberry\\n', 'Blackcurrant\\n', 'Black sapote\\n', 'Blueberry\\n', 'Boysenberry\\n', \"Buddha's hand (fingered citron)\\n\", 'Crab apples\\n', 'Currant\\n', 'Cherry\\n', 'Cherimoya (Custard Apple)\\n', 'Chico fruit\\n', 'Cloudberry\\n', 'Coconut\\n', 'Cranberry\\n', 'Cucumber\\n', 'Damson\\n', '\\n', '\\n', 'Date\\n', 'Dragonfruit (or Pitaya)\\n', 'Durian\\n', 'Elderberry\\n', 'Feijoa\\n', 'Fig\\n', 'Goji berry\\n', 'Gooseberry\\n', 'Grape\\n', '\\n', '\\n', 'Raisin\\n', 'Grapefruit\\n', 'Guava\\n', 'Honeyberry\\n', 'Huckleberry\\n', 'Jabuticaba\\n', 'Jackfruit\\n', 'Jambul\\n', 'Japanese plum\\n', 'Jostaberry\\n', '\\n', '!\\n', '\\n', 'Jujube\\n', 'Juniper berry\\n', 'Kiwano (horned melon)\\n', 'Kiwifruit\\n', 'Kumquat\\n', '\\n', '%\\n', '\\n', 'Lemon\\n', 'Lime\\n', 'Loquat\\n', 'Longan\\n', 'Lychee\\n', 'Mango\\n', 'Mangosteen\\n', 'Marionberry\\n', 'Melon\\n', 'Cantaloupe\\n', 'Honeydew\\n', 'Watermelon\\n', 'Miracle fruit\\n', 'Mulberry\\n', 'Nectarine\\n', 'Nance\\n', 'Olive\\n', 'Orange\\n', 'Blood orange\\n', 'Clementine\\n', 'Mandarine\\n', 'Tangerine\\n', 'Papaya\\n', 'Passionfruit\\n', 'Peach\\n', 'Pear\\n', 'Persimmon\\n', 'Plantain\\n', 'Plum\\n', 'Prune (dried plum)\\n', 'Pineapple\\n', 'Pineberry\\n', 'Plumcot (or Pluot)\\n', 'Pomegranate\\n', 'Pomelo\\n', 'Purple mangosteen\\n', 'Quince\\n', 'Raspberry\\n', 'Salmonberry\\n', 'Rambutan (or Mamin Chino)\\n', 'Redcurrant\\n', 'Salal berry\\n', 'Salak\\n', 'Satsuma\\n', 'Soursop\\n', 'Star apple\\n', 'Star fruit\\n', 'Strawberry\\n', 'Surinam cherry\\n', 'Tamarillo\\n', 'Tamarind\\n', 'Ugli fruit\\n', 'White currant\\n', 'White sapote\\n', 'Yuzu\\n', '\\n']\n"
     ]
    }
   ],
   "source": [
    "with open(\"fruits_input.txt\", \"r\") as file:\n",
    "    content = file.readlines()\n",
    "print(content)"
   ]
  },
  {
   "cell_type": "markdown",
   "metadata": {},
   "source": [
    "#  <font color='blue'>2. READ THE FILE 'FRUITS_INPUT.TXT' AND REMOVE ALL THE NEW LINE SPACES AND SPECIAL CHARACHTERS AND THEN SAVE THE OUTPUT FILE 'FRUITS_OUTPUT.TXT' </font> "
   ]
  },
  {
   "cell_type": "code",
   "execution_count": 3,
   "metadata": {},
   "outputs": [],
   "source": []
  },
  {
   "cell_type": "code",
   "execution_count": 4,
   "metadata": {},
   "outputs": [
    {
     "data": {
      "text/plain": [
       "['Here is the list of fruits: \\n',\n",
       " '\\n',\n",
       " 'Start of List\\n',\n",
       " '\\n',\n",
       " 'Açaí\\n',\n",
       " 'Apple\\n',\n",
       " 'Akee\\n',\n",
       " 'Apricot\\n',\n",
       " 'Avocado\\n',\n",
       " 'Banana\\n',\n",
       " 'Bilberry\\n',\n",
       " 'Blackberry\\n',\n",
       " 'Blackcurrant\\n',\n",
       " 'Black sapote\\n',\n",
       " 'Blueberry\\n',\n",
       " 'Boysenberry\\n',\n",
       " \"Buddha's hand (fingered citron)\\n\",\n",
       " 'Crab apples\\n',\n",
       " 'Currant\\n',\n",
       " 'Cherry\\n',\n",
       " 'Cherimoya (Custard Apple)\\n',\n",
       " 'Chico fruit\\n',\n",
       " 'Cloudberry\\n',\n",
       " 'Coconut\\n',\n",
       " 'Cranberry\\n',\n",
       " 'Cucumber\\n',\n",
       " 'Damson\\n',\n",
       " '\\n',\n",
       " '\\n',\n",
       " 'Date\\n',\n",
       " 'Dragonfruit (or Pitaya)\\n',\n",
       " 'Durian\\n',\n",
       " 'Elderberry\\n',\n",
       " 'Feijoa\\n',\n",
       " 'Fig\\n',\n",
       " 'Goji berry\\n',\n",
       " 'Gooseberry\\n',\n",
       " 'Grape\\n',\n",
       " '\\n',\n",
       " '\\n',\n",
       " 'Raisin\\n',\n",
       " 'Grapefruit\\n',\n",
       " 'Guava\\n',\n",
       " 'Honeyberry\\n',\n",
       " 'Huckleberry\\n',\n",
       " 'Jabuticaba\\n',\n",
       " 'Jackfruit\\n',\n",
       " 'Jambul\\n',\n",
       " 'Japanese plum\\n',\n",
       " 'Jostaberry\\n',\n",
       " '\\n',\n",
       " '!\\n',\n",
       " '\\n',\n",
       " 'Jujube\\n',\n",
       " 'Juniper berry\\n',\n",
       " 'Kiwano (horned melon)\\n',\n",
       " 'Kiwifruit\\n',\n",
       " 'Kumquat\\n',\n",
       " '\\n',\n",
       " '%\\n',\n",
       " '\\n',\n",
       " 'Lemon\\n',\n",
       " 'Lime\\n',\n",
       " 'Loquat\\n',\n",
       " 'Longan\\n',\n",
       " 'Lychee\\n',\n",
       " 'Mango\\n',\n",
       " 'Mangosteen\\n',\n",
       " 'Marionberry\\n',\n",
       " 'Melon\\n',\n",
       " 'Cantaloupe\\n',\n",
       " 'Honeydew\\n',\n",
       " 'Watermelon\\n',\n",
       " 'Miracle fruit\\n',\n",
       " 'Mulberry\\n',\n",
       " 'Nectarine\\n',\n",
       " 'Nance\\n',\n",
       " 'Olive\\n',\n",
       " 'Orange\\n',\n",
       " 'Blood orange\\n',\n",
       " 'Clementine\\n',\n",
       " 'Mandarine\\n',\n",
       " 'Tangerine\\n',\n",
       " 'Papaya\\n',\n",
       " 'Passionfruit\\n',\n",
       " 'Peach\\n',\n",
       " 'Pear\\n',\n",
       " 'Persimmon\\n',\n",
       " 'Plantain\\n',\n",
       " 'Plum\\n',\n",
       " 'Prune (dried plum)\\n',\n",
       " 'Pineapple\\n',\n",
       " 'Pineberry\\n',\n",
       " 'Plumcot (or Pluot)\\n',\n",
       " 'Pomegranate\\n',\n",
       " 'Pomelo\\n',\n",
       " 'Purple mangosteen\\n',\n",
       " 'Quince\\n',\n",
       " 'Raspberry\\n',\n",
       " 'Salmonberry\\n',\n",
       " 'Rambutan (or Mamin Chino)\\n',\n",
       " 'Redcurrant\\n',\n",
       " 'Salal berry\\n',\n",
       " 'Salak\\n',\n",
       " 'Satsuma\\n',\n",
       " 'Soursop\\n',\n",
       " 'Star apple\\n',\n",
       " 'Star fruit\\n',\n",
       " 'Strawberry\\n',\n",
       " 'Surinam cherry\\n',\n",
       " 'Tamarillo\\n',\n",
       " 'Tamarind\\n',\n",
       " 'Ugli fruit\\n',\n",
       " 'White currant\\n',\n",
       " 'White sapote\\n',\n",
       " 'Yuzu\\n',\n",
       " '\\n']"
      ]
     },
     "execution_count": 4,
     "metadata": {},
     "output_type": "execute_result"
    }
   ],
   "source": [
    "with open(\"fruits_input.txt\", \"r\") as file:\n",
    "    content = file.readlines()\n",
    "content"
   ]
  },
  {
   "cell_type": "code",
   "execution_count": 5,
   "metadata": {},
   "outputs": [
    {
     "data": {
      "text/plain": [
       "['Here is the list of fruits: ',\n",
       " '',\n",
       " 'Start of List',\n",
       " '',\n",
       " 'Açaí',\n",
       " 'Apple',\n",
       " 'Akee',\n",
       " 'Apricot',\n",
       " 'Avocado',\n",
       " 'Banana',\n",
       " 'Bilberry',\n",
       " 'Blackberry',\n",
       " 'Blackcurrant',\n",
       " 'Black sapote',\n",
       " 'Blueberry',\n",
       " 'Boysenberry',\n",
       " \"Buddha's hand (fingered citron)\",\n",
       " 'Crab apples',\n",
       " 'Currant',\n",
       " 'Cherry',\n",
       " 'Cherimoya (Custard Apple)',\n",
       " 'Chico fruit',\n",
       " 'Cloudberry',\n",
       " 'Coconut',\n",
       " 'Cranberry',\n",
       " 'Cucumber',\n",
       " 'Damson',\n",
       " '',\n",
       " '',\n",
       " 'Date',\n",
       " 'Dragonfruit (or Pitaya)',\n",
       " 'Durian',\n",
       " 'Elderberry',\n",
       " 'Feijoa',\n",
       " 'Fig',\n",
       " 'Goji berry',\n",
       " 'Gooseberry',\n",
       " 'Grape',\n",
       " '',\n",
       " '',\n",
       " 'Raisin',\n",
       " 'Grapefruit',\n",
       " 'Guava',\n",
       " 'Honeyberry',\n",
       " 'Huckleberry',\n",
       " 'Jabuticaba',\n",
       " 'Jackfruit',\n",
       " 'Jambul',\n",
       " 'Japanese plum',\n",
       " 'Jostaberry',\n",
       " '',\n",
       " '!',\n",
       " '',\n",
       " 'Jujube',\n",
       " 'Juniper berry',\n",
       " 'Kiwano (horned melon)',\n",
       " 'Kiwifruit',\n",
       " 'Kumquat',\n",
       " '',\n",
       " '%',\n",
       " '',\n",
       " 'Lemon',\n",
       " 'Lime',\n",
       " 'Loquat',\n",
       " 'Longan',\n",
       " 'Lychee',\n",
       " 'Mango',\n",
       " 'Mangosteen',\n",
       " 'Marionberry',\n",
       " 'Melon',\n",
       " 'Cantaloupe',\n",
       " 'Honeydew',\n",
       " 'Watermelon',\n",
       " 'Miracle fruit',\n",
       " 'Mulberry',\n",
       " 'Nectarine',\n",
       " 'Nance',\n",
       " 'Olive',\n",
       " 'Orange',\n",
       " 'Blood orange',\n",
       " 'Clementine',\n",
       " 'Mandarine',\n",
       " 'Tangerine',\n",
       " 'Papaya',\n",
       " 'Passionfruit',\n",
       " 'Peach',\n",
       " 'Pear',\n",
       " 'Persimmon',\n",
       " 'Plantain',\n",
       " 'Plum',\n",
       " 'Prune (dried plum)',\n",
       " 'Pineapple',\n",
       " 'Pineberry',\n",
       " 'Plumcot (or Pluot)',\n",
       " 'Pomegranate',\n",
       " 'Pomelo',\n",
       " 'Purple mangosteen',\n",
       " 'Quince',\n",
       " 'Raspberry',\n",
       " 'Salmonberry',\n",
       " 'Rambutan (or Mamin Chino)',\n",
       " 'Redcurrant',\n",
       " 'Salal berry',\n",
       " 'Salak',\n",
       " 'Satsuma',\n",
       " 'Soursop',\n",
       " 'Star apple',\n",
       " 'Star fruit',\n",
       " 'Strawberry',\n",
       " 'Surinam cherry',\n",
       " 'Tamarillo',\n",
       " 'Tamarind',\n",
       " 'Ugli fruit',\n",
       " 'White currant',\n",
       " 'White sapote',\n",
       " 'Yuzu',\n",
       " '']"
      ]
     },
     "execution_count": 5,
     "metadata": {},
     "output_type": "execute_result"
    }
   ],
   "source": [
    "content = [char.strip(\"\\n\") for char in content if \"\\n\" in char]\n",
    "content"
   ]
  },
  {
   "cell_type": "code",
   "execution_count": 6,
   "metadata": {},
   "outputs": [
    {
     "data": {
      "text/plain": [
       "['Here is the list of fruits: ',\n",
       " 'Start of List',\n",
       " 'Açaí',\n",
       " 'Apple',\n",
       " 'Akee',\n",
       " 'Apricot',\n",
       " 'Avocado',\n",
       " 'Banana',\n",
       " 'Bilberry',\n",
       " 'Blackberry',\n",
       " 'Blackcurrant',\n",
       " 'Black sapote',\n",
       " 'Blueberry',\n",
       " 'Boysenberry',\n",
       " \"Buddha's hand (fingered citron)\",\n",
       " 'Crab apples',\n",
       " 'Currant',\n",
       " 'Cherry',\n",
       " 'Cherimoya (Custard Apple)',\n",
       " 'Chico fruit',\n",
       " 'Cloudberry',\n",
       " 'Coconut',\n",
       " 'Cranberry',\n",
       " 'Cucumber',\n",
       " 'Damson',\n",
       " 'Date',\n",
       " 'Dragonfruit (or Pitaya)',\n",
       " 'Durian',\n",
       " 'Elderberry',\n",
       " 'Feijoa',\n",
       " 'Fig',\n",
       " 'Goji berry',\n",
       " 'Gooseberry',\n",
       " 'Grape',\n",
       " 'Raisin',\n",
       " 'Grapefruit',\n",
       " 'Guava',\n",
       " 'Honeyberry',\n",
       " 'Huckleberry',\n",
       " 'Jabuticaba',\n",
       " 'Jackfruit',\n",
       " 'Jambul',\n",
       " 'Japanese plum',\n",
       " 'Jostaberry',\n",
       " 'Jujube',\n",
       " 'Juniper berry',\n",
       " 'Kiwano (horned melon)',\n",
       " 'Kiwifruit',\n",
       " 'Kumquat',\n",
       " 'Lemon',\n",
       " 'Lime',\n",
       " 'Loquat',\n",
       " 'Longan',\n",
       " 'Lychee',\n",
       " 'Mango',\n",
       " 'Mangosteen',\n",
       " 'Marionberry',\n",
       " 'Melon',\n",
       " 'Cantaloupe',\n",
       " 'Honeydew',\n",
       " 'Watermelon',\n",
       " 'Miracle fruit',\n",
       " 'Mulberry',\n",
       " 'Nectarine',\n",
       " 'Nance',\n",
       " 'Olive',\n",
       " 'Orange',\n",
       " 'Blood orange',\n",
       " 'Clementine',\n",
       " 'Mandarine',\n",
       " 'Tangerine',\n",
       " 'Papaya',\n",
       " 'Passionfruit',\n",
       " 'Peach',\n",
       " 'Pear',\n",
       " 'Persimmon',\n",
       " 'Plantain',\n",
       " 'Plum',\n",
       " 'Prune (dried plum)',\n",
       " 'Pineapple',\n",
       " 'Pineberry',\n",
       " 'Plumcot (or Pluot)',\n",
       " 'Pomegranate',\n",
       " 'Pomelo',\n",
       " 'Purple mangosteen',\n",
       " 'Quince',\n",
       " 'Raspberry',\n",
       " 'Salmonberry',\n",
       " 'Rambutan (or Mamin Chino)',\n",
       " 'Redcurrant',\n",
       " 'Salal berry',\n",
       " 'Salak',\n",
       " 'Satsuma',\n",
       " 'Soursop',\n",
       " 'Star apple',\n",
       " 'Star fruit',\n",
       " 'Strawberry',\n",
       " 'Surinam cherry',\n",
       " 'Tamarillo',\n",
       " 'Tamarind',\n",
       " 'Ugli fruit',\n",
       " 'White currant',\n",
       " 'White sapote',\n",
       " 'Yuzu']"
      ]
     },
     "execution_count": 6,
     "metadata": {},
     "output_type": "execute_result"
    }
   ],
   "source": [
    "content = [char for char in content if char !=\"\"]\n",
    "content = [char for char in content if len(char) != 1]\n",
    "\n",
    "content"
   ]
  },
  {
   "cell_type": "code",
   "execution_count": 7,
   "metadata": {},
   "outputs": [],
   "source": [
    "with open(\"fruits_out.txt\", \"w\") as file:\n",
    "    for char in content:\n",
    "        file.write(char+\"\\n\")"
   ]
  },
  {
   "cell_type": "markdown",
   "metadata": {},
   "source": [
    "#  <font color='blue'>3. READ THE FILE 'FRUITS_INPUT.TXT', REMOVE ALL THE NEW LINE SPACES AND SPECIAL CHARACHTERS, THEN REMOVE ANY LINES THAT DOES NOT REPRESENT A FRUIT, THEN SAVE THE OUTPUT FILE 'FRUITS_OUTPUT.TXT' </font> "
   ]
  },
  {
   "cell_type": "code",
   "execution_count": 13,
   "metadata": {},
   "outputs": [
    {
     "data": {
      "text/plain": [
       "['Açaí',\n",
       " 'Apple',\n",
       " 'Akee',\n",
       " 'Apricot',\n",
       " 'Avocado',\n",
       " 'Banana',\n",
       " 'Bilberry',\n",
       " 'Blackberry',\n",
       " 'Blackcurrant',\n",
       " 'Black sapote',\n",
       " 'Blueberry',\n",
       " 'Boysenberry',\n",
       " \"Buddha's hand (fingered citron)\",\n",
       " 'Crab apples',\n",
       " 'Currant',\n",
       " 'Cherry',\n",
       " 'Cherimoya (Custard Apple)',\n",
       " 'Chico fruit',\n",
       " 'Cloudberry',\n",
       " 'Coconut',\n",
       " 'Cranberry',\n",
       " 'Cucumber',\n",
       " 'Damson',\n",
       " 'Date',\n",
       " 'Dragonfruit (or Pitaya)',\n",
       " 'Durian',\n",
       " 'Elderberry',\n",
       " 'Feijoa',\n",
       " 'Fig',\n",
       " 'Goji berry',\n",
       " 'Gooseberry',\n",
       " 'Grape',\n",
       " 'Raisin',\n",
       " 'Grapefruit',\n",
       " 'Guava',\n",
       " 'Honeyberry',\n",
       " 'Huckleberry',\n",
       " 'Jabuticaba',\n",
       " 'Jackfruit',\n",
       " 'Jambul',\n",
       " 'Japanese plum',\n",
       " 'Jostaberry',\n",
       " 'Jujube',\n",
       " 'Juniper berry',\n",
       " 'Kiwano (horned melon)',\n",
       " 'Kiwifruit',\n",
       " 'Kumquat',\n",
       " 'Lemon',\n",
       " 'Lime',\n",
       " 'Loquat',\n",
       " 'Longan',\n",
       " 'Lychee',\n",
       " 'Mango',\n",
       " 'Mangosteen',\n",
       " 'Marionberry',\n",
       " 'Melon',\n",
       " 'Cantaloupe',\n",
       " 'Honeydew',\n",
       " 'Watermelon',\n",
       " 'Miracle fruit',\n",
       " 'Mulberry',\n",
       " 'Nectarine',\n",
       " 'Nance',\n",
       " 'Olive',\n",
       " 'Orange',\n",
       " 'Blood orange',\n",
       " 'Clementine',\n",
       " 'Mandarine',\n",
       " 'Tangerine',\n",
       " 'Papaya',\n",
       " 'Passionfruit',\n",
       " 'Peach',\n",
       " 'Pear',\n",
       " 'Persimmon',\n",
       " 'Plantain',\n",
       " 'Plum',\n",
       " 'Prune (dried plum)',\n",
       " 'Pineapple',\n",
       " 'Pineberry',\n",
       " 'Plumcot (or Pluot)',\n",
       " 'Pomegranate',\n",
       " 'Pomelo',\n",
       " 'Purple mangosteen',\n",
       " 'Quince',\n",
       " 'Raspberry',\n",
       " 'Salmonberry',\n",
       " 'Rambutan (or Mamin Chino)',\n",
       " 'Redcurrant',\n",
       " 'Salal berry',\n",
       " 'Salak',\n",
       " 'Satsuma',\n",
       " 'Soursop',\n",
       " 'Star apple',\n",
       " 'Star fruit',\n",
       " 'Strawberry',\n",
       " 'Surinam cherry',\n",
       " 'Tamarillo',\n",
       " 'Tamarind',\n",
       " 'Ugli fruit',\n",
       " 'White currant',\n",
       " 'White sapote',\n",
       " 'Yuzu']"
      ]
     },
     "execution_count": 13,
     "metadata": {},
     "output_type": "execute_result"
    }
   ],
   "source": [
    "with open(\"fruits_input.txt\", \"r\") as file:\n",
    "    content = [word.strip(\"\\n\") for word in file.readlines()]\n",
    "\n",
    "\n",
    "content = [word for word in content if len(word) > 1 and word not in [\"\", \"End of List\", \"Start of List\", \"Here is the list of fruits: \"]]\n",
    "\n",
    "with open(\"fruits_out.txt\", \"w\") as file:\n",
    "    file.write(\"\\n\".join(content))\n",
    "content"
   ]
  },
  {
   "cell_type": "markdown",
   "metadata": {},
   "source": [
    "#  <font color='blue'>4. READ THE FILE 'FRUITS_INPUT.TXT' AND COMPARE IT TO THE LIST OF FRUITS IN MY_FRUITS, RETURN ONLY MATCHING ELEMNTS </font> "
   ]
  },
  {
   "cell_type": "code",
   "execution_count": 17,
   "metadata": {},
   "outputs": [
    {
     "name": "stdout",
     "output_type": "stream",
     "text": [
      "['Apple', 'Watermelon', 'Orange']\n"
     ]
    }
   ],
   "source": [
    "with open(\"fruits_input.txt\", \"r\") as file:\n",
    "    file_contents = [line.strip() for line in file]\n",
    "my_fruits = [\"Apple\", \"Watermelon\", \"Orange\", \"Kiwi\", \"Grapes\"]\n",
    "\n",
    "\n",
    "matching_fruits = [fruit for fruit in my_fruits if fruit in file_contents]\n",
    "\n",
    "print(matching_fruits)\n"
   ]
  },
  {
   "cell_type": "markdown",
   "metadata": {},
   "source": [
    "#  <font color='blue'> 5. WRITE A CODE THAT TAKES AN INPUT FROM A USER AND STORE THIS IN A NEW TEXT FILE SEPARATED BY NEW LINES"
   ]
  },
  {
   "cell_type": "code",
   "execution_count": 18,
   "metadata": {},
   "outputs": [
    {
     "name": "stdout",
     "output_type": "stream",
     "text": [
      "Enter 5 names of your favourite friends separated by comma:\n",
      "Abhi,abhishek,adi,aditya,mohit\n",
      "Input saved to 'user_input.txt'\n"
     ]
    }
   ],
   "source": [
    "\n",
    "user_input = input(\"Enter 5 names of your favourite friends separated by comma:\\n\")\n",
    "\n",
    "with open(\"user_input.txt\", \"w\") as file:\n",
    "    file.write(user_input)\n",
    "\n",
    "print(\"Input saved to 'user_input.txt'\")\n"
   ]
  },
  {
   "cell_type": "code",
   "execution_count": 19,
   "metadata": {},
   "outputs": [
    {
     "data": {
      "text/plain": [
       "'Abhi,abhishek,adi,aditya,mohit'"
      ]
     },
     "execution_count": 19,
     "metadata": {},
     "output_type": "execute_result"
    }
   ],
   "source": [
    "user_input"
   ]
  },
  {
   "cell_type": "code",
   "execution_count": 21,
   "metadata": {},
   "outputs": [],
   "source": [
    "with open(\"user_input.txt\", \"a\") as file:\n",
    "    for word in user_input:\n",
    "        file.write(word + \"\\n\")"
   ]
  },
  {
   "cell_type": "markdown",
   "metadata": {},
   "source": [
    "# <font color='blue'> 6. READ THE CSV FILE \"S&P500_Stock_Data.CSV\" AND PRINT OUT THE (1) HEADING, (2) FIRST 5 ROWS OF DATA "
   ]
  },
  {
   "cell_type": "code",
   "execution_count": 24,
   "metadata": {},
   "outputs": [],
   "source": [
    "import pandas as pd\n",
    "\n",
    "df = pd.read_csv(\"S_P500_Stock_Data.csv\")"
   ]
  },
  {
   "cell_type": "code",
   "execution_count": 25,
   "metadata": {},
   "outputs": [
    {
     "name": "stdout",
     "output_type": "stream",
     "text": [
      "Heading:\n",
      "['Interest Rates', 'Employment', 'S&P 500 Price']\n"
     ]
    }
   ],
   "source": [
    "print(\"Heading:\")\n",
    "print(df.columns.tolist())"
   ]
  },
  {
   "cell_type": "code",
   "execution_count": 26,
   "metadata": {},
   "outputs": [
    {
     "name": "stdout",
     "output_type": "stream",
     "text": [
      "\n",
      "First 5 Rows:\n",
      "   Interest Rates  Employment  S&P 500 Price\n",
      "0        1.943859   55.413571    2206.680582\n",
      "1        2.258229   59.546305    2486.474488\n",
      "2        2.215863   57.414687    2405.868337\n",
      "3        1.977960   49.908353    2140.434475\n",
      "4        2.437723   52.035492    2411.275663\n"
     ]
    }
   ],
   "source": [
    "print(\"\\nFirst 5 Rows:\")\n",
    "print(df.head())"
   ]
  },
  {
   "cell_type": "code",
   "execution_count": null,
   "metadata": {},
   "outputs": [],
   "source": []
  },
  {
   "cell_type": "markdown",
   "metadata": {},
   "source": [
    "# <font color='blue'> 7. WRITE A CODE THAT TAKES SEVERAL INPUTS FROM A USER AS LONG AS THE USER DOES NOT ENTER \"STOP\". THE DATA IS THEN SAVED TO AN OUTPUT FILE"
   ]
  },
  {
   "cell_type": "code",
   "execution_count": 29,
   "metadata": {},
   "outputs": [
    {
     "name": "stdout",
     "output_type": "stream",
     "text": [
      "Enter data and type 'STOP' to finish: Hello\n",
      "Enter data and type 'STOP' to finish: world\n",
      "Enter data and type 'STOP' to finish: STOP\n",
      "Inputs saved to 'user_inputs.txt'\n"
     ]
    }
   ],
   "source": [
    "user_inputs = []\n",
    "\n",
    "while True:\n",
    "    user_input = input(\"Enter data and type 'STOP' to finish: \")\n",
    "    if user_input == \"STOP\":\n",
    "        break\n",
    "    user_inputs.append(user_input)\n",
    "with open(\"user_inputs.txt\", \"w\") as file:\n",
    "    file.write(\"\\n\".join(user_inputs))\n",
    "\n",
    "print(\"Inputs saved to 'user_inputs.txt'\")\n"
   ]
  },
  {
   "cell_type": "code",
   "execution_count": 30,
   "metadata": {},
   "outputs": [
    {
     "data": {
      "text/plain": [
       "['Hello', 'world']"
      ]
     },
     "execution_count": 30,
     "metadata": {},
     "output_type": "execute_result"
    }
   ],
   "source": [
    "user_inputs\n"
   ]
  },
  {
   "cell_type": "markdown",
   "metadata": {},
   "source": [
    "# <font color='blue'> 8. WRITE A CODE THAT SEARCHES FOR ALL TEXT FILES ON YOUR COMPUTER AND PRINT OUT ALL FILES AND THEIR PATH\n"
   ]
  },
  {
   "cell_type": "markdown",
   "metadata": {},
   "source": [
    "Os.walk generates the file names in a directory tree by walking the tree either top-down or bottom-up.\n",
    "For each directory in the tree rooted at directory top, it yields a 3-tuple (dirpath, dirnames, filenames)\n",
    "                 \n",
    "- dirpath: is a string, the path to the directory\n",
    "- dirnames: is a list of the names of the subdirectories in dirpath\n",
    "- filenames: is a list of the names of the non-directory files in dirpath\n",
    "\n",
    "\n",
    "The fnmatch module compares file names against glob-style patterns.\n",
    "\n",
    "- fnmatch() compares a single file name against a pattern and returns a boolean indicating whether or not they match. "
   ]
  },
  {
   "cell_type": "code",
   "execution_count": 33,
   "metadata": {},
   "outputs": [
    {
     "name": "stdout",
     "output_type": "stream",
     "text": [
      "File: importantModule.txt\n",
      "Path: E:\\ALL Programmining\\CP\\Arrays\\importantModule.txt\n",
      "\n"
     ]
    }
   ],
   "source": [
    "import os\n",
    "\n",
    "def find_text_files(start_directory):\n",
    "    for dirpath, dirnames, filenames in os.walk(start_directory):\n",
    "        for filename in filenames:\n",
    "            if filename.endswith(\".txt\"):\n",
    "                yield os.path.join(dirpath, filename)\n",
    "root_directory = 'E:\\\\'\n",
    "\n",
    "for text_file in find_text_files(root_directory):\n",
    "    print(f\"File: {os.path.basename(text_file)}\")\n",
    "    print(f\"Path: {text_file}\\n\")\n"
   ]
  },
  {
   "cell_type": "markdown",
   "metadata": {},
   "source": [
    "\n",
    "# <font color='blue'> 9. WRITE A CODE THAT WILL SEARCH FOR IMAGES ON YOUR COMPUTER AND RETURNS A LIST OF ALL IMAGES (EXERNAL RESEARCH OS.WALK)\n",
    " Search for these image extensions = ['*.jpg', '*.jpeg', '*.png']\n"
   ]
  },
  {
   "cell_type": "code",
   "execution_count": 36,
   "metadata": {},
   "outputs": [
    {
     "name": "stdout",
     "output_type": "stream",
     "text": [
      "Found Image Files:\n",
      "E:\\Help sheet\\benjamin-cole-DDhET-updco-unsplash.jpg\n",
      "E:\\JEE mains\\RANK BOOSTER\\CHEMISTRY\\Pg 188-jeemain.guru.jpg\n"
     ]
    }
   ],
   "source": [
    "import os\n",
    "\n",
    "root_directory = 'E:\\\\'\n",
    "\n",
    "image_extensions = ['.jpg', '.jpeg', '*.png']\n",
    "\n",
    "image_files = []\n",
    "\n",
    "for dirpath, dirnames, filenames in os.walk(root_directory):\n",
    "    for filename in filenames:\n",
    "        for ext in image_extensions:\n",
    "            if filename.endswith(ext):\n",
    "                image_files.append(os.path.join(dirpath, filename))\n",
    "\n",
    "print(\"Found Image Files:\")\n",
    "for image_file in image_files:\n",
    "    print(image_file)\n",
    "\n"
   ]
  },
  {
   "cell_type": "markdown",
   "metadata": {},
   "source": [
    "# NOW YOU SHOULD BE FAMILIAR WITH FILES OPERATIONS, GREAT JOB!"
   ]
  }
 ],
 "metadata": {
  "kernelspec": {
   "display_name": "Python 3",
   "language": "python",
   "name": "python3"
  },
  "language_info": {
   "codemirror_mode": {
    "name": "ipython",
    "version": 3
   },
   "file_extension": ".py",
   "mimetype": "text/x-python",
   "name": "python",
   "nbconvert_exporter": "python",
   "pygments_lexer": "ipython3",
   "version": "3.7.6"
  }
 },
 "nbformat": 4,
 "nbformat_minor": 2
}
